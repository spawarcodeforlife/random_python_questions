{
 "cells": [
  {
   "cell_type": "code",
   "execution_count": 2,
   "id": "2b7f9527",
   "metadata": {},
   "outputs": [],
   "source": [
    "\n",
    "import pandas as pd\n",
    "\n",
    "airbnb_key_details = airbnb_search_details[[ 'city', 'property_type','bedrooms', 'bathrooms']]\n",
    "\n",
    "property_averages = airbnb_key_details.groupby(['city', 'property_type']).mean().reset_index()\n",
    "\n",
    "property_averages"
   ]
  },
  {
   "cell_type": "code",
   "execution_count": null,
   "id": "1693f63b",
   "metadata": {},
   "outputs": [],
   "source": []
  }
 ],
 "metadata": {
  "kernelspec": {
   "display_name": "Python 3 (ipykernel)",
   "language": "python",
   "name": "python3"
  },
  "language_info": {
   "codemirror_mode": {
    "name": "ipython",
    "version": 3
   },
   "file_extension": ".py",
   "mimetype": "text/x-python",
   "name": "python",
   "nbconvert_exporter": "python",
   "pygments_lexer": "ipython3",
   "version": "3.10.9"
  }
 },
 "nbformat": 4,
 "nbformat_minor": 5
}
